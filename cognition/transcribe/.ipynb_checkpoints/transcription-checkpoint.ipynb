{
 "cells": [
  {
   "cell_type": "markdown",
   "metadata": {},
   "source": [
    "# Amazon Transcribe: Transcription Job"
   ]
  },
  {
   "cell_type": "code",
   "execution_count": 2,
   "metadata": {},
   "outputs": [],
   "source": [
    "import time\n",
    "import boto3"
   ]
  },
  {
   "cell_type": "code",
   "execution_count": 10,
   "metadata": {},
   "outputs": [
    {
     "name": "stdout",
     "output_type": "stream",
     "text": [
      "El job sigue en curso...\n",
      "El job sigue en curso...\n",
      "El job sigue en curso...\n",
      "El job sigue en curso...\n",
      "El job sigue en curso...\n",
      "El job sigue en curso...\n",
      "El job sigue en curso...\n",
      "El job sigue en curso...\n",
      "El job sigue en curso...\n",
      "El job ha terminado con status: COMPLETED\n"
     ]
    }
   ],
   "source": [
    "transcribe = boto3.client('transcribe')\n",
    "job_name = \"transcription_example_4\"\n",
    "job_uri = \"https://s3-eu-west-1.amazonaws.com/dd-imagenes-prueba-rekognition/transcription/audio_prueba.wav\"\n",
    "transcribe.start_transcription_job(\n",
    "    TranscriptionJobName=job_name,\n",
    "    Media={'MediaFileUri': job_uri},\n",
    "    MediaFormat='wav',\n",
    "    LanguageCode='es-US'\n",
    ")\n",
    "while True:\n",
    "    status = transcribe.get_transcription_job(TranscriptionJobName=job_name)\n",
    "    status_ = status['TranscriptionJob']['TranscriptionJobStatus']\n",
    "    if status_ in ['COMPLETED', 'FAILED']:\n",
    "        print(\"El job ha terminado con status: \" + status_)\n",
    "        break\n",
    "    print(\"El job sigue en curso...\")\n",
    "    time.sleep(10)"
   ]
  }
 ],
 "metadata": {
  "kernelspec": {
   "display_name": "Python 3",
   "language": "python",
   "name": "python3"
  },
  "language_info": {
   "codemirror_mode": {
    "name": "ipython",
    "version": 3
   },
   "file_extension": ".py",
   "mimetype": "text/x-python",
   "name": "python",
   "nbconvert_exporter": "python",
   "pygments_lexer": "ipython3",
   "version": "3.6.4"
  }
 },
 "nbformat": 4,
 "nbformat_minor": 2
}
