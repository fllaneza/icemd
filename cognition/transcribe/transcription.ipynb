{
 "cells": [
  {
   "cell_type": "markdown",
   "metadata": {},
   "source": [
    "# Amazon Transcribe: Transcription Job"
   ]
  },
  {
   "cell_type": "code",
   "execution_count": 2,
   "metadata": {},
   "outputs": [],
   "source": [
    "import time\n",
    "import boto3"
   ]
  },
  {
   "cell_type": "code",
   "execution_count": 14,
   "metadata": {},
   "outputs": [
    {
     "data": {
      "text/plain": [
       "{'TranscriptionJob': {'TranscriptionJobName': 'transcripcion_ejemplo',\n",
       "  'TranscriptionJobStatus': 'IN_PROGRESS',\n",
       "  'LanguageCode': 'es-US',\n",
       "  'MediaFormat': 'wav',\n",
       "  'Media': {'MediaFileUri': 'https://s3-eu-west-1.amazonaws.com/dd-imagenes-prueba-rekognition/transcription/audio_prueba.wav'},\n",
       "  'CreationTime': datetime.datetime(2018, 12, 6, 13, 41, 56, 748000, tzinfo=tzlocal())},\n",
       " 'ResponseMetadata': {'RequestId': '5107e124-f954-11e8-ae2c-73713c0d85c3',\n",
       "  'HTTPStatusCode': 200,\n",
       "  'HTTPHeaders': {'content-type': 'application/x-amz-json-1.1',\n",
       "   'date': 'Thu, 06 Dec 2018 12:41:56 GMT',\n",
       "   'x-amzn-requestid': '5107e124-f954-11e8-ae2c-73713c0d85c3',\n",
       "   'content-length': '307',\n",
       "   'connection': 'keep-alive'},\n",
       "  'RetryAttempts': 0}}"
      ]
     },
     "execution_count": 14,
     "metadata": {},
     "output_type": "execute_result"
    }
   ],
   "source": [
    "transcribe = boto3.client('transcribe')\n",
    "job_name = \"transcripcion_ejemplo\"\n",
    "job_uri = \"https://s3-eu-west-1.amazonaws.com/dd-imagenes-prueba-rekognition/transcription/audio_prueba.wav\"\n",
    "transcribe.start_transcription_job(\n",
    "    TranscriptionJobName=job_name,\n",
    "    Media={'MediaFileUri': job_uri},\n",
    "    MediaFormat='wav',\n",
    "    LanguageCode='es-US'\n",
    ")"
   ]
  },
  {
   "cell_type": "code",
   "execution_count": 15,
   "metadata": {},
   "outputs": [
    {
     "name": "stdout",
     "output_type": "stream",
     "text": [
      "El job sigue en curso...\n",
      "El job sigue en curso...\n",
      "El job sigue en curso...\n",
      "El job sigue en curso...\n",
      "El job sigue en curso...\n",
      "El job sigue en curso...\n",
      "El job sigue en curso...\n",
      "El job sigue en curso...\n",
      "El job ha terminado con status: COMPLETED\n"
     ]
    }
   ],
   "source": [
    "while True:\n",
    "    status = transcribe.get_transcription_job(TranscriptionJobName=job_name)\n",
    "    status_ = status['TranscriptionJob']['TranscriptionJobStatus']\n",
    "    if status_ in ['COMPLETED', 'FAILED']:\n",
    "        print(\"El job ha terminado con status: \" + status_)\n",
    "        break\n",
    "    print(\"El job sigue en curso...\")\n",
    "    time.sleep(10)"
   ]
  }
 ],
 "metadata": {
  "kernelspec": {
   "display_name": "Python 3",
   "language": "python",
   "name": "python3"
  },
  "language_info": {
   "codemirror_mode": {
    "name": "ipython",
    "version": 3
   },
   "file_extension": ".py",
   "mimetype": "text/x-python",
   "name": "python",
   "nbconvert_exporter": "python",
   "pygments_lexer": "ipython3",
   "version": "3.6.4"
  }
 },
 "nbformat": 4,
 "nbformat_minor": 2
}
