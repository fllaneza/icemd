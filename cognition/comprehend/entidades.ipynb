{
 "cells": [
  {
   "cell_type": "markdown",
   "metadata": {},
   "source": [
    "# Amazon Comprehend: Detección de Entidades"
   ]
  },
  {
   "cell_type": "code",
   "execution_count": 31,
   "metadata": {},
   "outputs": [],
   "source": [
    "import boto3\n",
    "import time"
   ]
  },
  {
   "cell_type": "code",
   "execution_count": 7,
   "metadata": {},
   "outputs": [],
   "source": [
    "comprehend = boto3.client('comprehend')"
   ]
  },
  {
   "cell_type": "markdown",
   "metadata": {},
   "source": [
    "### Tarea síncrona"
   ]
  },
  {
   "cell_type": "code",
   "execution_count": 34,
   "metadata": {},
   "outputs": [
    {
     "name": "stdout",
     "output_type": "stream",
     "text": [
      "{'Entities': [{'Score': 0.9851490259170532, 'Type': 'PERSON', 'Text': 'Pepe', 'BeginOffset': 0, 'EndOffset': 4}, {'Score': 0.9994381070137024, 'Type': 'PERSON', 'Text': 'María', 'BeginOffset': 7, 'EndOffset': 12}, {'Score': 0.9958582520484924, 'Type': 'LOCATION', 'Text': 'Madrid', 'BeginOffset': 30, 'EndOffset': 36}, {'Score': 0.8570986986160278, 'Type': 'DATE', 'Text': 'primavera de 1989', 'BeginOffset': 43, 'EndOffset': 60}], 'ResponseMetadata': {'RequestId': '498d283b-f98e-11e8-847e-4da9dc17996a', 'HTTPStatusCode': 200, 'HTTPHeaders': {'date': 'Thu, 06 Dec 2018 19:36:55 GMT', 'content-type': 'application/x-amz-json-1.1', 'content-length': '392', 'connection': 'keep-alive', 'x-amzn-requestid': '498d283b-f98e-11e8-847e-4da9dc17996a'}, 'RetryAttempts': 0}}\n"
     ]
    }
   ],
   "source": [
    "response = comprehend.detect_entities(\n",
    "    Text='Pepe y María se conocieron en Madrid en la primavera de 1989',\n",
    "    LanguageCode='es'\n",
    ")\n",
    "print(response)"
   ]
  },
  {
   "cell_type": "markdown",
   "metadata": {},
   "source": [
    "### Tarea asíncrona"
   ]
  },
  {
   "cell_type": "code",
   "execution_count": 33,
   "metadata": {},
   "outputs": [
    {
     "name": "stdout",
     "output_type": "stream",
     "text": [
      "{'JobId': '79d8feb536f1d4285529109ec8a6c14a', 'JobStatus': 'SUBMITTED', 'ResponseMetadata': {'RequestId': '45cdd63d-f98e-11e8-8b63-2d66d62aff27', 'HTTPStatusCode': 200, 'HTTPHeaders': {'date': 'Thu, 06 Dec 2018 19:36:48 GMT', 'content-type': 'application/x-amz-json-1.1', 'content-length': '68', 'connection': 'keep-alive', 'x-amzn-requestid': '45cdd63d-f98e-11e8-8b63-2d66d62aff27'}, 'RetryAttempts': 0}}\n"
     ]
    }
   ],
   "source": [
    "asynchronous_response = comprehend.start_entities_detection_job(\n",
    "    InputDataConfig={\n",
    "        'S3Uri': 's3://dd-imagenes-prueba-rekognition/comprehend/',\n",
    "        'InputFormat': 'ONE_DOC_PER_FILE'\n",
    "    },\n",
    "    OutputDataConfig={\n",
    "        'S3Uri': 's3://dd-imagenes-prueba-rekognition/comprehend/'\n",
    "    },\n",
    "    DataAccessRoleArn='arn:aws:iam::019836839166:role/service-role/AmazonComprehendServiceRole-cuantica',\n",
    "    JobName='prueba4',\n",
    "    LanguageCode='es',\n",
    ")\n",
    "print(asynchronous_response)"
   ]
  },
  {
   "cell_type": "code",
   "execution_count": 35,
   "metadata": {},
   "outputs": [
    {
     "name": "stdout",
     "output_type": "stream",
     "text": [
      "El job sigue en curso...\n",
      "El job sigue en curso...\n",
      "El job sigue en curso...\n",
      "El job sigue en curso...\n",
      "El job sigue en curso...\n",
      "El job sigue en curso...\n",
      "El job sigue en curso...\n",
      "El job sigue en curso...\n",
      "El job sigue en curso...\n",
      "El job sigue en curso...\n",
      "El job sigue en curso...\n",
      "El job sigue en curso...\n",
      "El job sigue en curso...\n",
      "El job sigue en curso...\n",
      "El job sigue en curso...\n",
      "El job sigue en curso...\n",
      "El job sigue en curso...\n",
      "El job sigue en curso...\n",
      "El job sigue en curso...\n",
      "El job sigue en curso...\n",
      "El job sigue en curso...\n",
      "El job sigue en curso...\n",
      "El job sigue en curso...\n",
      "El job sigue en curso...\n",
      "El job sigue en curso...\n",
      "El job sigue en curso...\n",
      "El job sigue en curso...\n",
      "El job sigue en curso...\n",
      "El job sigue en curso...\n",
      "El job sigue en curso...\n",
      "El job sigue en curso...\n",
      "El job sigue en curso...\n",
      "El job sigue en curso...\n",
      "El job ha terminado con status: COMPLETED\n",
      "\n",
      "{'EntitiesDetectionJobProperties': {'JobId': '79d8feb536f1d4285529109ec8a6c14a', 'JobName': 'prueba4', 'JobStatus': 'COMPLETED', 'SubmitTime': datetime.datetime(2018, 12, 6, 20, 36, 48, 674000, tzinfo=tzlocal()), 'EndTime': datetime.datetime(2018, 12, 6, 20, 45, 28, 129000, tzinfo=tzlocal()), 'InputDataConfig': {'S3Uri': 's3://dd-imagenes-prueba-rekognition/comprehend/', 'InputFormat': 'ONE_DOC_PER_FILE'}, 'OutputDataConfig': {'S3Uri': 's3://dd-imagenes-prueba-rekognition/comprehend/019836839166-NER-79d8feb536f1d4285529109ec8a6c14a/output/output.tar.gz'}, 'LanguageCode': 'es', 'DataAccessRoleArn': 'arn:aws:iam::019836839166:role/service-role/AmazonComprehendServiceRole-cuantica'}, 'ResponseMetadata': {'RequestId': '7ff8a0b0-f98f-11e8-9c19-111572f1c43a', 'HTTPStatusCode': 200, 'HTTPHeaders': {'date': 'Thu, 06 Dec 2018 19:45:35 GMT', 'content-type': 'application/x-amz-json-1.1', 'content-length': '563', 'connection': 'keep-alive', 'x-amzn-requestid': '7ff8a0b0-f98f-11e8-9c19-111572f1c43a'}, 'RetryAttempts': 0}}\n"
     ]
    }
   ],
   "source": [
    "while True:\n",
    "    status = comprehend.describe_entities_detection_job(JobId = asynchronous_response['JobId'])\n",
    "    status_ = status['EntitiesDetectionJobProperties']['JobStatus']\n",
    "    if status_ in ['COMPLETED', 'FAILED']:\n",
    "        print(\"El job ha terminado con status: \" + status_)\n",
    "        break\n",
    "    print(\"El job sigue en curso...\")\n",
    "    time.sleep(15)\n",
    "print(\"\")\n",
    "print(status)"
   ]
  }
 ],
 "metadata": {
  "kernelspec": {
   "display_name": "Python 3",
   "language": "python",
   "name": "python3"
  },
  "language_info": {
   "codemirror_mode": {
    "name": "ipython",
    "version": 3
   },
   "file_extension": ".py",
   "mimetype": "text/x-python",
   "name": "python",
   "nbconvert_exporter": "python",
   "pygments_lexer": "ipython3",
   "version": "3.6.4"
  }
 },
 "nbformat": 4,
 "nbformat_minor": 2
}
