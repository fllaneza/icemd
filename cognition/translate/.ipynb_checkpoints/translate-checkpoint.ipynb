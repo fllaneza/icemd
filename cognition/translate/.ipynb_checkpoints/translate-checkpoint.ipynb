{
 "cells": [
  {
   "cell_type": "markdown",
   "metadata": {},
   "source": [
    "# Amazon Translate"
   ]
  },
  {
   "cell_type": "code",
   "execution_count": 1,
   "metadata": {},
   "outputs": [],
   "source": [
    "import boto3"
   ]
  },
  {
   "cell_type": "code",
   "execution_count": 2,
   "metadata": {},
   "outputs": [],
   "source": [
    "translate = boto3.client(service_name='translate')"
   ]
  },
  {
   "cell_type": "code",
   "execution_count": 7,
   "metadata": {},
   "outputs": [],
   "source": [
    "texto = \"La Constitución cumple 40 años. Y este día histórico quedará también como el primero en el que la Familia Real al completo estuvo presente en el Congreso: los Reyes, sus dos hijas y Don Juan Carlos y Doña Sofía. En un momento político complejo, con el desafío independentista, el perenne debate sobre la reforma de la Carta Magna y con un importante sector del arco parlamentario cuestionando la Monarquía, Felipe VI ha reivindicado el papel de la Constitución para una España 'en democracia y libertad'. La ha definido como 'el gran pacto nacional de convivencia entre los españoles por la concordia y la reconciliación, por la democracia y por la libertad'.\""
   ]
  },
  {
   "cell_type": "code",
   "execution_count": 16,
   "metadata": {},
   "outputs": [
    {
     "name": "stdout",
     "output_type": "stream",
     "text": [
      "Texto original (es)\n",
      "----------------------------------\n",
      "La Constitución cumple 40 años. Y este día histórico quedará también como el primero en el que la Familia Real al completo estuvo presente en el Congreso: los Reyes, sus dos hijas y Don Juan Carlos y Doña Sofía. En un momento político complejo, con el desafío independentista, el perenne debate sobre la reforma de la Carta Magna y con un importante sector del arco parlamentario cuestionando la Monarquía, Felipe VI ha reivindicado el papel de la Constitución para una España 'en democracia y libertad'. La ha definido como 'el gran pacto nacional de convivencia entre los españoles por la concordia y la reconciliación, por la democracia y por la libertad'.\n",
      "\n",
      "Texto traducido (en)\n",
      "----------------------------------\n",
      "The Constitution is 40 years old. And this historic day will also be the first on which the entire Royal Family was present at the Congress: the Kings, their two daughters and Don Juan Carlos and Doña Sofía. At a complex political moment, with the independence challenge, the perennial debate on the reform of the Magna Carta and with an important sector of the parliamentary arch questioning the Monarchy, Felipe VI has claimed the role of the Constitution for a Spain 'in democracy and freedom'. He has defined it as' the great national pact of coexistence among the Spaniards for harmony and reconciliation, for democracy and for freedom '.\n"
     ]
    }
   ],
   "source": [
    "result = translate.translate_text(\n",
    "    Text=texto, \n",
    "    SourceLanguageCode=\"auto\", \n",
    "    TargetLanguageCode=\"en\")\n",
    "print(\"Texto original (\"+result.get('SourceLanguageCode')+\")\")\n",
    "print(\"----------------------------------\")\n",
    "print(texto)\n",
    "print(\"\")\n",
    "print(\"Texto traducido (\"+result.get('TargetLanguageCode')+\")\")\n",
    "print(\"----------------------------------\")\n",
    "print(result.get('TranslatedText'))"
   ]
  }
 ],
 "metadata": {
  "kernelspec": {
   "display_name": "Python 3",
   "language": "python",
   "name": "python3"
  },
  "language_info": {
   "codemirror_mode": {
    "name": "ipython",
    "version": 3
   },
   "file_extension": ".py",
   "mimetype": "text/x-python",
   "name": "python",
   "nbconvert_exporter": "python",
   "pygments_lexer": "ipython3",
   "version": "3.6.4"
  }
 },
 "nbformat": 4,
 "nbformat_minor": 2
}
