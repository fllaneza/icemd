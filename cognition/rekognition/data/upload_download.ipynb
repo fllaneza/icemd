{
 "cells": [
  {
   "cell_type": "markdown",
   "metadata": {},
   "source": [
    "# Upload / Download Images"
   ]
  },
  {
   "cell_type": "code",
   "execution_count": 1,
   "metadata": {},
   "outputs": [],
   "source": [
    "import boto3\n",
    "import botocore\n",
    "from os import listdir\n",
    "\n",
    "PROFILE = \"default\"\n",
    "BUCKET = \"dd-imagenes-prueba-rekognition\"\n",
    "FOLDER = \"detection/\" # \"detection/\" \"identification/\"\n",
    "REGION = \"eu-west-1\"\n",
    "UPLOAD = 1 "
   ]
  },
  {
   "cell_type": "code",
   "execution_count": 2,
   "metadata": {},
   "outputs": [],
   "source": [
    "session = boto3.Session(profile_name=PROFILE)\n",
    "s3 = session.client(\"s3\")"
   ]
  },
  {
   "cell_type": "code",
   "execution_count": 3,
   "metadata": {},
   "outputs": [],
   "source": [
    "buckets_list = s3.list_buckets()['Buckets']\n",
    "print(buckets_list)\n",
    "buckets_names = [buckets_list[i]['Name'] for i in range(0,len(buckets_list))]\n",
    "print(bucket_names)\n",
    "\n",
    "# Create S3 bucket called BUCKET\n",
    "if BUCKET not in buckets_names:\n",
    "    s3.create_bucket(Bucket=BUCKET, CreateBucketConfiguration={'LocationConstraint': REGION})"
   ]
  },
  {
   "cell_type": "code",
   "execution_count": 4,
   "metadata": {},
   "outputs": [],
   "source": [
    "if UPLOAD:\n",
    "    # Upload files to S3_FOLDER in BUCKET\n",
    "    files = listdir(FOLDER, )\n",
    "    files_names = [file for file in files if file.endswith('.jpg')]\n",
    "    for name in files_names:\n",
    "        s3.upload_file(FOLDER + name, BUCKET, FOLDER + name)      \n",
    "else:\n",
    "    # Download files to FOLDER from S3_FOLDER in BUCKET\n",
    "    objects_list = s3.list_objects(Bucket = BUCKET)\n",
    "    objects_keys = [key['Key'].encode(\"UTF-8\") for key in objects_list['Contents']]\n",
    "    for image in objects_keys:\n",
    "        try:\n",
    "            s3.download_file(BUCKET, image, FOLDER + image)\n",
    "        except botocore.exceptions.ClientError as e:\n",
    "            if e.response['Error']['Code'] == \"404\":\n",
    "                print(\"The object does not exist\")\n",
    "            else:\n",
    "                raise"
   ]
  }
 ],
 "metadata": {
  "kernelspec": {
   "display_name": "Python 3",
   "language": "python",
   "name": "python3"
  },
  "language_info": {
   "codemirror_mode": {
    "name": "ipython",
    "version": 3
   },
   "file_extension": ".py",
   "mimetype": "text/x-python",
   "name": "python",
   "nbconvert_exporter": "python",
   "pygments_lexer": "ipython3",
   "version": "3.6.4"
  }
 },
 "nbformat": 4,
 "nbformat_minor": 2
}
