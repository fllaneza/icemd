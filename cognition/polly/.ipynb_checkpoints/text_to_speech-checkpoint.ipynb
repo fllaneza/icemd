{
 "cells": [
  {
   "cell_type": "markdown",
   "metadata": {},
   "source": [
    "# Amazon Polly: Text to Speech"
   ]
  },
  {
   "cell_type": "code",
   "execution_count": 1,
   "metadata": {},
   "outputs": [],
   "source": [
    "import boto3\n",
    "import time"
   ]
  },
  {
   "cell_type": "code",
   "execution_count": 2,
   "metadata": {},
   "outputs": [],
   "source": [
    "polly = boto3.client('polly')"
   ]
  },
  {
   "cell_type": "markdown",
   "metadata": {},
   "source": [
    "### Tarea síncrona"
   ]
  },
  {
   "cell_type": "code",
   "execution_count": 3,
   "metadata": {},
   "outputs": [],
   "source": [
    "response = polly.synthesize_speech(\n",
    "    OutputFormat='mp3', \n",
    "    Text = 'Tres tristes tigres comían trigo en un trigal.',\n",
    "    VoiceId='Conchita', # 'Enrique'|'Miguel'|'Penelope'|'Carla'|'Ines'|'Lucia'\n",
    "    LanguageCode='es-ES', # |'es-MX'|'es-US'|\n",
    ")\n",
    "\n",
    "file = open('speech.mp3', 'wb')\n",
    "file.write(response['AudioStream'].read())\n",
    "file.close()"
   ]
  },
  {
   "cell_type": "markdown",
   "metadata": {},
   "source": [
    "### Tarea asíncrona"
   ]
  },
  {
   "cell_type": "code",
   "execution_count": 3,
   "metadata": {},
   "outputs": [],
   "source": [
    "texto = \"Se crió jugando en el Jàbac Terrassa, un histórico club del fútbol territorial catalán, pero pronto dio el salto al Barça. A los 14 años se puso la camiseta azulgrana y con esfuerzo y sacrificio se ha ido convirtiendo en el jugador que es ahora, siendo importante en cada una de las categorías que ha pisado con este escudo. Encarna a la perfección lo que se denomina comúnmente como ADN Barça. Entiende el juego, no le quema el balón en los pies y hace que el centro del campo sea una especia de danza coral que gira a su alrededor. Podríamos decir que es uno de los últimos 'locos bajitos' que ha generado La Masía, que tiene características de algún jugador que se echa de menos en el Camp Nou, pero hay que saber disfrutar de Riqui Puig. Pese a tener la cara de niño, como muchos dicen, su inteligencia sobre el terreno de juego es como si llevara tiempo en la máxima categoría. Cada vez que controla el balón, se orienta a la perfección para dar sentido al juego. Y es muy difícil mostrar esa personalidad cuando tienes muchas miradas encima.\""
   ]
  },
  {
   "cell_type": "code",
   "execution_count": 11,
   "metadata": {},
   "outputs": [
    {
     "name": "stdout",
     "output_type": "stream",
     "text": [
      "{'ResponseMetadata': {'RequestId': '808593c6-f969-11e8-82d7-91e171d06a38', 'HTTPStatusCode': 200, 'HTTPHeaders': {'content-type': 'application/json', 'date': 'Thu, 06 Dec 2018 15:13:35 GMT', 'x-amzn-requestid': '808593c6-f969-11e8-82d7-91e171d06a38', 'content-length': '478', 'connection': 'keep-alive'}, 'RetryAttempts': 0}, 'SynthesisTask': {'TaskId': 'c928c804-2785-4bd3-b78c-5474b636c511', 'TaskStatus': 'scheduled', 'OutputUri': 'https://s3.eu-west-1.amazonaws.com/dd-imagenes-prueba-rekognition/polly-.c928c804-2785-4bd3-b78c-5474b636c511.mp3', 'CreationTime': datetime.datetime(2018, 12, 6, 16, 13, 35, 965000, tzinfo=tzlocal()), 'RequestCharacters': 1047, 'OutputFormat': 'mp3', 'TextType': 'text', 'VoiceId': 'Conchita', 'LanguageCode': 'es-ES'}}\n"
     ]
    }
   ],
   "source": [
    "asynchronous_response = polly.start_speech_synthesis_task(\n",
    "    OutputFormat='mp3', \n",
    "    Text = texto,\n",
    "    VoiceId='Conchita', # 'Enrique'|'Miguel'|'Penelope'|'Carla'|'Ines'|'Lucia'\n",
    "    LanguageCode='es-ES', # |'es-MX'|'es-US'|\n",
    "    OutputS3BucketName='dd-imagenes-prueba-rekognition',\n",
    "    OutputS3KeyPrefix='polly-'\n",
    ")\n",
    "print(asynchronous_response)"
   ]
  },
  {
   "cell_type": "code",
   "execution_count": 12,
   "metadata": {},
   "outputs": [
    {
     "name": "stdout",
     "output_type": "stream",
     "text": [
      "El job sigue en curso...\n",
      "El job sigue en curso...\n",
      "El job sigue en curso...\n",
      "El job ha terminado con status: completed\n",
      "\n",
      "{'ResponseMetadata': {'RequestId': '8ae66f9a-f969-11e8-b1e6-2f48d20e199b', 'HTTPStatusCode': 200, 'HTTPHeaders': {'content-type': 'application/json', 'date': 'Thu, 06 Dec 2018 15:13:52 GMT', 'x-amzn-requestid': '8ae66f9a-f969-11e8-b1e6-2f48d20e199b', 'content-length': '478', 'connection': 'keep-alive'}, 'RetryAttempts': 0}, 'SynthesisTask': {'TaskId': 'c928c804-2785-4bd3-b78c-5474b636c511', 'TaskStatus': 'completed', 'OutputUri': 'https://s3.eu-west-1.amazonaws.com/dd-imagenes-prueba-rekognition/polly-.c928c804-2785-4bd3-b78c-5474b636c511.mp3', 'CreationTime': datetime.datetime(2018, 12, 6, 16, 13, 35, 965000, tzinfo=tzlocal()), 'RequestCharacters': 1047, 'OutputFormat': 'mp3', 'TextType': 'text', 'VoiceId': 'Conchita', 'LanguageCode': 'es-ES'}}\n"
     ]
    }
   ],
   "source": [
    "while True:\n",
    "    status = polly.get_speech_synthesis_task(TaskId = asynchronous_response['SynthesisTask']['TaskId'])\n",
    "    status_ = status['SynthesisTask']['TaskStatus']\n",
    "    if status_ in ['completed', 'failed']:\n",
    "        print(\"El job ha terminado con status: \" + status_)\n",
    "        break\n",
    "    print(\"El job sigue en curso...\")\n",
    "    time.sleep(5)\n",
    "print(\"\")\n",
    "print(status)"
   ]
  }
 ],
 "metadata": {
  "kernelspec": {
   "display_name": "Python 3",
   "language": "python",
   "name": "python3"
  },
  "language_info": {
   "codemirror_mode": {
    "name": "ipython",
    "version": 3
   },
   "file_extension": ".py",
   "mimetype": "text/x-python",
   "name": "python",
   "nbconvert_exporter": "python",
   "pygments_lexer": "ipython3",
   "version": "3.6.4"
  }
 },
 "nbformat": 4,
 "nbformat_minor": 2
}
