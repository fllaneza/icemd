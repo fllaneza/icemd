{
 "cells": [
  {
   "cell_type": "markdown",
   "metadata": {},
   "source": [
    "# Amazon Rekognition: Face Detection "
   ]
  },
  {
   "cell_type": "code",
   "execution_count": 1,
   "metadata": {},
   "outputs": [],
   "source": [
    "import boto3\n",
    "import botocore\n",
    "import numpy as np\n",
    "import cv2\n",
    "from skimage import io\n",
    "from os import getcwd, listdir\n",
    "import time\n",
    "import dlib\n",
    "\n",
    "PROFILE = \"default\"\n",
    "BUCKET = \"dd-imagenes-prueba-rekognition\"\n",
    "S3_FOLDER = \"detection/\"\n",
    "LOCAL_FOLDER = \"data/detection/\"\n",
    "SAVE_FOLDER = LOCAL_FOLDER + \"results/\"\n",
    "REGION = \"eu-west-1\""
   ]
  },
  {
   "cell_type": "code",
   "execution_count": 2,
   "metadata": {},
   "outputs": [],
   "source": [
    "session = boto3.Session(profile_name=PROFILE)\n",
    "s3 = session.client(\"s3\")\n",
    "rekognition = session.client(\"rekognition\", REGION)"
   ]
  },
  {
   "cell_type": "code",
   "execution_count": 3,
   "metadata": {},
   "outputs": [],
   "source": [
    "files = listdir(LOCAL_FOLDER, )\n",
    "images_names = sorted([f for f in files if f.endswith('.jpg')])\n",
    "images = [(img_name, io.imread(LOCAL_FOLDER + img_name)) for img_name in images_names]"
   ]
  },
  {
   "cell_type": "code",
   "execution_count": 4,
   "metadata": {},
   "outputs": [],
   "source": [
    "def aws_detect_faces(bucket, image, rekgonition_client):\n",
    "    response = rekgonition_client.detect_faces(\n",
    "        Image =\n",
    "        {\n",
    "            \"S3Object\": \n",
    "            {\n",
    "                \"Bucket\": bucket,\n",
    "                \"Name\": image,\n",
    "            }\n",
    "        }\n",
    "    )\n",
    "    return response"
   ]
  },
  {
   "cell_type": "code",
   "execution_count": 5,
   "metadata": {},
   "outputs": [],
   "source": [
    "def create_rectangle(coordinates, image_heigth, image_width):\n",
    "    bounding_check = dlib.rectangles()\n",
    "    for i in range(0, len(coordinates)):\n",
    "        coord = coordinates[i]\n",
    "        left = int(coord['Left'] * image_width)\n",
    "        width = int(coord['Width'] * image_width)\n",
    "        top = int(coord['Top'] * image_heigth)\n",
    "        heigth = int(coord['Height'] * image_heigth)\n",
    "        rect = dlib.rectangle(left, top, left + width, top + heigth)\n",
    "        bounding_check.append(rect)\n",
    "    return bounding_check"
   ]
  },
  {
   "cell_type": "code",
   "execution_count": 8,
   "metadata": {},
   "outputs": [
    {
     "name": "stdout",
     "output_type": "stream",
     "text": [
      "1. Processing image: detection/2007_007763.jpg\n",
      "2. Processing image: detection/2008_001009.jpg\n",
      "3. Processing image: detection/2008_001322.jpg\n",
      "4. Processing image: detection/2008_002079.jpg\n",
      "5. Processing image: detection/2008_002470.jpg\n",
      "6. Processing image: detection/2008_002506.jpg\n",
      "7. Processing image: detection/2008_004176.jpg\n",
      "8. Processing image: detection/2008_007676.jpg\n",
      "9. Processing image: detection/2009_004587.jpg\n",
      "10. Processing image: detection/bald_guys.jpg\n",
      "11. Processing image: detection/cara_calvo.jpg\n",
      "12. Processing image: detection/cara_cara.jpg\n",
      "13. Processing image: detection/cara_perro.jpg\n",
      "14. Processing image: detection/dogs.jpg\n",
      "15. Processing image: detection/multitud.jpg\n",
      "16. Processing image: detection/selfie_oscar.jpg\n"
     ]
    }
   ],
   "source": [
    "aws_times = list()\n",
    "\n",
    "for i, image in enumerate(images):\n",
    "    \n",
    "    img_name, img = image\n",
    "    print(\"{}. Processing image: {}\".format(i+1, S3_FOLDER + img_name))\n",
    "    t1 = time.time()\n",
    "    aws_detected_faces = aws_detect_faces(BUCKET, S3_FOLDER + img_name, rekognition)\n",
    "    t2 = time.time()\n",
    "    aws_times.append(t1-t2)\n",
    "\n",
    "    coordinates = [face['BoundingBox'] for face in aws_detected_faces['FaceDetails']]\n",
    "    image_heigth = img.shape[0]\n",
    "    image_width = img.shape[1]\n",
    "    aws_bounding_checks = create_rectangle(coordinates, image_heigth, image_width)\n",
    "    \n",
    "    for d in aws_bounding_checks:\n",
    "        cv2.rectangle(img, (d.left(), d.top()), (d.right(), d.bottom()), (0, 0, 255), 2)    \n",
    "    \n",
    "    io.imsave(SAVE_FOLDER + img_name, img)"
   ]
  },
  {
   "cell_type": "code",
   "execution_count": 11,
   "metadata": {},
   "outputs": [
    {
     "ename": "FileNotFoundError",
     "evalue": "[Errno 2] No such file or directory: 'detection/results/times.txt'",
     "output_type": "error",
     "traceback": [
      "\u001b[0;31m---------------------------------------------------------------------------\u001b[0m",
      "\u001b[0;31mFileNotFoundError\u001b[0m                         Traceback (most recent call last)",
      "\u001b[0;32m<ipython-input-11-f362663905f2>\u001b[0m in \u001b[0;36m<module>\u001b[0;34m()\u001b[0m\n\u001b[0;32m----> 1\u001b[0;31m \u001b[0mg\u001b[0m \u001b[0;34m=\u001b[0m \u001b[0mopen\u001b[0m\u001b[0;34m(\u001b[0m\u001b[0;34m\"detection/results/times.txt\"\u001b[0m\u001b[0;34m,\u001b[0m\u001b[0;34m\"w\"\u001b[0m\u001b[0;34m)\u001b[0m\u001b[0;34m\u001b[0m\u001b[0m\n\u001b[0m\u001b[1;32m      2\u001b[0m \u001b[0mg\u001b[0m\u001b[0;34m.\u001b[0m\u001b[0mwritelines\u001b[0m\u001b[0;34m(\u001b[0m\u001b[0;34m'{}'\u001b[0m\u001b[0;34m.\u001b[0m\u001b[0mformat\u001b[0m\u001b[0;34m(\u001b[0m\u001b[0maws_times\u001b[0m\u001b[0;34m)\u001b[0m\u001b[0;34m)\u001b[0m\u001b[0;34m\u001b[0m\u001b[0m\n\u001b[1;32m      3\u001b[0m \u001b[0mg\u001b[0m\u001b[0;34m.\u001b[0m\u001b[0mclose\u001b[0m\u001b[0;34m(\u001b[0m\u001b[0;34m)\u001b[0m\u001b[0;34m\u001b[0m\u001b[0m\n",
      "\u001b[0;31mFileNotFoundError\u001b[0m: [Errno 2] No such file or directory: 'detection/results/times.txt'"
     ]
    }
   ],
   "source": [
    "g = open(\"detection/results/times.txt\",\"w\") \n",
    "g.writelines('{}'.format(aws_times))\n",
    "g.close()"
   ]
  },
  {
   "cell_type": "code",
   "execution_count": null,
   "metadata": {},
   "outputs": [],
   "source": []
  }
 ],
 "metadata": {
  "kernelspec": {
   "display_name": "Python 3",
   "language": "python",
   "name": "python3"
  },
  "language_info": {
   "codemirror_mode": {
    "name": "ipython",
    "version": 3
   },
   "file_extension": ".py",
   "mimetype": "text/x-python",
   "name": "python",
   "nbconvert_exporter": "python",
   "pygments_lexer": "ipython3",
   "version": "3.6.4"
  }
 },
 "nbformat": 4,
 "nbformat_minor": 2
}
