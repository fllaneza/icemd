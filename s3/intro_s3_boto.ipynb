{
 "cells": [
  {
   "cell_type": "markdown",
   "metadata": {},
   "source": [
    "# Introducción a S3 con boto3"
   ]
  },
  {
   "cell_type": "code",
   "execution_count": 26,
   "metadata": {},
   "outputs": [],
   "source": [
    "import boto3\n",
    "import botocore\n",
    "from os import listdir\n",
    "\n",
    "# Nombre del bucket de S3\n",
    "BUCKET = \"aprendiendo-con-s3\"\n",
    "\n",
    "# Nombre de la carpeta local con los datos \n",
    "FOLDER = \"imagenes/\" \n",
    "\n",
    "# Región dónde se creará el bucket\n",
    "REGION = \"eu-west-1\""
   ]
  },
  {
   "cell_type": "markdown",
   "metadata": {},
   "source": [
    "#### 1. Crea un cliente de S3"
   ]
  },
  {
   "cell_type": "code",
   "execution_count": 5,
   "metadata": {},
   "outputs": [],
   "source": [
    "s3 = boto3.client(\"s3\")"
   ]
  },
  {
   "cell_type": "markdown",
   "metadata": {},
   "source": [
    "#### 2. Lista los buckets del usuario"
   ]
  },
  {
   "cell_type": "code",
   "execution_count": 8,
   "metadata": {},
   "outputs": [
    {
     "name": "stdout",
     "output_type": "stream",
     "text": [
      "beeva-poc-fl-images\n",
      "icemd-awsintro\n"
     ]
    }
   ],
   "source": [
    "buckets_list = s3.list_buckets()['Buckets']\n",
    "for b in buckets_list:\n",
    "    print(b['Name'])"
   ]
  },
  {
   "cell_type": "markdown",
   "metadata": {},
   "source": [
    "#### 3. Crea un bucket si no existe"
   ]
  },
  {
   "cell_type": "code",
   "execution_count": 13,
   "metadata": {},
   "outputs": [],
   "source": [
    "buckets_names = [buckets_list[i]['Name'] for i in range(0,len(buckets_list))]\n",
    "\n",
    "# Create S3 bucket called BUCKET\n",
    "if BUCKET not in buckets_names:\n",
    "    s3.create_bucket(Bucket=BUCKET, CreateBucketConfiguration={'LocationConstraint': REGION})"
   ]
  },
  {
   "cell_type": "markdown",
   "metadata": {},
   "source": [
    "#### 4. Subida de objetos a S3"
   ]
  },
  {
   "cell_type": "code",
   "execution_count": 43,
   "metadata": {},
   "outputs": [],
   "source": [
    "files = listdir(FOLDER, )\n",
    "files_names = [file for file in files if file.endswith('.jpg')]\n",
    "for name in files_names:\n",
    "    s3.upload_file(FOLDER + name, BUCKET, \"subido/\" + name) "
   ]
  },
  {
   "cell_type": "markdown",
   "metadata": {},
   "source": [
    "#### 5. Descarga de objetos de S3"
   ]
  },
  {
   "cell_type": "code",
   "execution_count": 41,
   "metadata": {},
   "outputs": [],
   "source": [
    "objects_list = s3.list_objects(Bucket = BUCKET)\n",
    "objects_keys = [key['Key'] for key in objects_list['Contents']]\n",
    "for image in objects_keys:\n",
    "    try:\n",
    "        s3.download_file(BUCKET, image, FOLDER + \"descargado/\" + image)\n",
    "    except botocore.exceptions.ClientError as e:\n",
    "        if e.response['Error']['Code'] == \"404\":\n",
    "            print(\"The object does not exist\")\n",
    "        else:\n",
    "            raise           "
   ]
  },
  {
   "cell_type": "markdown",
   "metadata": {},
   "source": [
    "#### 6. Obtener la lista de control de acceso (ACL) del bucket "
   ]
  },
  {
   "cell_type": "code",
   "execution_count": 40,
   "metadata": {},
   "outputs": [
    {
     "name": "stdout",
     "output_type": "stream",
     "text": [
      "{'DisplayName': 'franllaneza6', 'ID': 'd8c41a0effa94675e305f8a6742ae9138baf50296f80d3371605ab9b1325710b'}\n"
     ]
    }
   ],
   "source": [
    "acl = s3.get_bucket_acl(Bucket = BUCKET)\n",
    "print(acl['Owner'])"
   ]
  }
 ],
 "metadata": {
  "kernelspec": {
   "display_name": "Python 3",
   "language": "python",
   "name": "python3"
  },
  "language_info": {
   "codemirror_mode": {
    "name": "ipython",
    "version": 3
   },
   "file_extension": ".py",
   "mimetype": "text/x-python",
   "name": "python",
   "nbconvert_exporter": "python",
   "pygments_lexer": "ipython3",
   "version": "3.7.0"
  }
 },
 "nbformat": 4,
 "nbformat_minor": 2
}
