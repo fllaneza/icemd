{
 "cells": [
  {
   "cell_type": "markdown",
   "metadata": {},
   "source": [
    "# Modelización mediante una regresión lineal"
   ]
  },
  {
   "cell_type": "code",
   "execution_count": 1,
   "metadata": {},
   "outputs": [],
   "source": [
    "import numpy as np\n",
    "import pandas as pd\n",
    "from sklearn import datasets, linear_model\n",
    "from sklearn.metrics import mean_squared_error, r2_score\n",
    "from sklearn.model_selection import train_test_split\n",
    "from sklearn.externals import joblib"
   ]
  },
  {
   "cell_type": "markdown",
   "metadata": {},
   "source": [
    "#### 1. Carga de datos (precios de casas en Boston)"
   ]
  },
  {
   "cell_type": "code",
   "execution_count": 2,
   "metadata": {},
   "outputs": [
    {
     "name": "stdout",
     "output_type": "stream",
     "text": [
      "Boston House Prices dataset\n",
      "===========================\n",
      "\n",
      "Notes\n",
      "------\n",
      "Data Set Characteristics:  \n",
      "\n",
      "    :Number of Instances: 506 \n",
      "\n",
      "    :Number of Attributes: 13 numeric/categorical predictive\n",
      "    \n",
      "    :Median Value (attribute 14) is usually the target\n",
      "\n",
      "    :Attribute Information (in order):\n",
      "        - CRIM     per capita crime rate by town\n",
      "        - ZN       proportion of residential land zoned for lots over 25,000 sq.ft.\n",
      "        - INDUS    proportion of non-retail business acres per town\n",
      "        - CHAS     Charles River dummy variable (= 1 if tract bounds river; 0 otherwise)\n",
      "        - NOX      nitric oxides concentration (parts per 10 million)\n",
      "        - RM       average number of rooms per dwelling\n",
      "        - AGE      proportion of owner-occupied units built prior to 1940\n",
      "        - DIS      weighted distances to five Boston employment centres\n",
      "        - RAD      index of accessibility to radial highways\n",
      "        - TAX      full-value property-tax rate per $10,000\n",
      "        - PTRATIO  pupil-teacher ratio by town\n",
      "        - B        1000(Bk - 0.63)^2 where Bk is the proportion of blacks by town\n",
      "        - LSTAT    % lower status of the population\n",
      "        - MEDV     Median value of owner-occupied homes in $1000's\n",
      "\n",
      "    :Missing Attribute Values: None\n",
      "\n",
      "    :Creator: Harrison, D. and Rubinfeld, D.L.\n",
      "\n",
      "This is a copy of UCI ML housing dataset.\n",
      "http://archive.ics.uci.edu/ml/datasets/Housing\n",
      "\n",
      "\n",
      "This dataset was taken from the StatLib library which is maintained at Carnegie Mellon University.\n",
      "\n",
      "The Boston house-price data of Harrison, D. and Rubinfeld, D.L. 'Hedonic\n",
      "prices and the demand for clean air', J. Environ. Economics & Management,\n",
      "vol.5, 81-102, 1978.   Used in Belsley, Kuh & Welsch, 'Regression diagnostics\n",
      "...', Wiley, 1980.   N.B. Various transformations are used in the table on\n",
      "pages 244-261 of the latter.\n",
      "\n",
      "The Boston house-price data has been used in many machine learning papers that address regression\n",
      "problems.   \n",
      "     \n",
      "**References**\n",
      "\n",
      "   - Belsley, Kuh & Welsch, 'Regression diagnostics: Identifying Influential Data and Sources of Collinearity', Wiley, 1980. 244-261.\n",
      "   - Quinlan,R. (1993). Combining Instance-Based and Model-Based Learning. In Proceedings on the Tenth International Conference of Machine Learning, 236-243, University of Massachusetts, Amherst. Morgan Kaufmann.\n",
      "   - many more! (see http://archive.ics.uci.edu/ml/datasets/Housing)\n",
      "\n"
     ]
    }
   ],
   "source": [
    "boston = datasets.load_boston()\n",
    "print(boston.DESCR)"
   ]
  },
  {
   "cell_type": "markdown",
   "metadata": {},
   "source": [
    "#### 2. Observación de los datos"
   ]
  },
  {
   "cell_type": "code",
   "execution_count": 3,
   "metadata": {},
   "outputs": [
    {
     "name": "stdout",
     "output_type": "stream",
     "text": [
      "---VARIABLES EXPLICATIVAS---\n",
      "CRIM: 0.00632\n",
      "ZN: 18.0\n",
      "INDUS: 2.31\n",
      "CHAS: 0.0\n",
      "NOX: 0.538\n",
      "RM: 6.575\n",
      "AGE: 65.2\n",
      "DIS: 4.09\n",
      "RAD: 1.0\n",
      "TAX: 296.0\n",
      "PTRATIO: 15.3\n",
      "B: 396.9\n",
      "LSTAT: 4.98\n",
      "\n",
      "---VARIABLE OBJETIVO---\n",
      "MEDV: 24.0\n"
     ]
    }
   ],
   "source": [
    "ind = 0\n",
    "print(\"---VARIABLES EXPLICATIVAS---\")\n",
    "for vble_name, value in zip(boston['feature_names'], boston['data'][ind]):\n",
    "    print(vble_name + \": \" + str(value))\n",
    "print(\"\\n---VARIABLE OBJETIVO---\")\n",
    "print(\"MEDV: \" + str(boston['target'][ind]))"
   ]
  },
  {
   "cell_type": "markdown",
   "metadata": {},
   "source": [
    "#### 3. Separación en un conjunto de entrenamiento (70%) y otro de test (30%)"
   ]
  },
  {
   "cell_type": "code",
   "execution_count": 4,
   "metadata": {},
   "outputs": [
    {
     "data": {
      "text/html": [
       "<div>\n",
       "<style scoped>\n",
       "    .dataframe tbody tr th:only-of-type {\n",
       "        vertical-align: middle;\n",
       "    }\n",
       "\n",
       "    .dataframe tbody tr th {\n",
       "        vertical-align: top;\n",
       "    }\n",
       "\n",
       "    .dataframe thead th {\n",
       "        text-align: right;\n",
       "    }\n",
       "</style>\n",
       "<table border=\"1\" class=\"dataframe\">\n",
       "  <thead>\n",
       "    <tr style=\"text-align: right;\">\n",
       "      <th></th>\n",
       "      <th>CRIM</th>\n",
       "      <th>ZN</th>\n",
       "      <th>INDUS</th>\n",
       "      <th>CHAS</th>\n",
       "      <th>NOX</th>\n",
       "      <th>RM</th>\n",
       "      <th>AGE</th>\n",
       "      <th>DIS</th>\n",
       "      <th>RAD</th>\n",
       "      <th>TAX</th>\n",
       "      <th>PTRATIO</th>\n",
       "      <th>B</th>\n",
       "      <th>LSTAT</th>\n",
       "    </tr>\n",
       "  </thead>\n",
       "  <tbody>\n",
       "    <tr>\n",
       "      <th>118</th>\n",
       "      <td>0.13058</td>\n",
       "      <td>0.0</td>\n",
       "      <td>10.01</td>\n",
       "      <td>0.0</td>\n",
       "      <td>0.547</td>\n",
       "      <td>5.872</td>\n",
       "      <td>73.1</td>\n",
       "      <td>2.4775</td>\n",
       "      <td>6.0</td>\n",
       "      <td>432.0</td>\n",
       "      <td>17.8</td>\n",
       "      <td>338.63</td>\n",
       "      <td>15.37</td>\n",
       "    </tr>\n",
       "    <tr>\n",
       "      <th>392</th>\n",
       "      <td>11.57790</td>\n",
       "      <td>0.0</td>\n",
       "      <td>18.10</td>\n",
       "      <td>0.0</td>\n",
       "      <td>0.700</td>\n",
       "      <td>5.036</td>\n",
       "      <td>97.0</td>\n",
       "      <td>1.7700</td>\n",
       "      <td>24.0</td>\n",
       "      <td>666.0</td>\n",
       "      <td>20.2</td>\n",
       "      <td>396.90</td>\n",
       "      <td>25.68</td>\n",
       "    </tr>\n",
       "    <tr>\n",
       "      <th>61</th>\n",
       "      <td>0.17171</td>\n",
       "      <td>25.0</td>\n",
       "      <td>5.13</td>\n",
       "      <td>0.0</td>\n",
       "      <td>0.453</td>\n",
       "      <td>5.966</td>\n",
       "      <td>93.4</td>\n",
       "      <td>6.8185</td>\n",
       "      <td>8.0</td>\n",
       "      <td>284.0</td>\n",
       "      <td>19.7</td>\n",
       "      <td>378.08</td>\n",
       "      <td>14.44</td>\n",
       "    </tr>\n",
       "    <tr>\n",
       "      <th>381</th>\n",
       "      <td>15.87440</td>\n",
       "      <td>0.0</td>\n",
       "      <td>18.10</td>\n",
       "      <td>0.0</td>\n",
       "      <td>0.671</td>\n",
       "      <td>6.545</td>\n",
       "      <td>99.1</td>\n",
       "      <td>1.5192</td>\n",
       "      <td>24.0</td>\n",
       "      <td>666.0</td>\n",
       "      <td>20.2</td>\n",
       "      <td>396.90</td>\n",
       "      <td>21.08</td>\n",
       "    </tr>\n",
       "    <tr>\n",
       "      <th>53</th>\n",
       "      <td>0.04981</td>\n",
       "      <td>21.0</td>\n",
       "      <td>5.64</td>\n",
       "      <td>0.0</td>\n",
       "      <td>0.439</td>\n",
       "      <td>5.998</td>\n",
       "      <td>21.4</td>\n",
       "      <td>6.8147</td>\n",
       "      <td>4.0</td>\n",
       "      <td>243.0</td>\n",
       "      <td>16.8</td>\n",
       "      <td>396.90</td>\n",
       "      <td>8.43</td>\n",
       "    </tr>\n",
       "  </tbody>\n",
       "</table>\n",
       "</div>"
      ],
      "text/plain": [
       "         CRIM    ZN  INDUS  CHAS    NOX     RM   AGE     DIS   RAD    TAX  \\\n",
       "118   0.13058   0.0  10.01   0.0  0.547  5.872  73.1  2.4775   6.0  432.0   \n",
       "392  11.57790   0.0  18.10   0.0  0.700  5.036  97.0  1.7700  24.0  666.0   \n",
       "61    0.17171  25.0   5.13   0.0  0.453  5.966  93.4  6.8185   8.0  284.0   \n",
       "381  15.87440   0.0  18.10   0.0  0.671  6.545  99.1  1.5192  24.0  666.0   \n",
       "53    0.04981  21.0   5.64   0.0  0.439  5.998  21.4  6.8147   4.0  243.0   \n",
       "\n",
       "     PTRATIO       B  LSTAT  \n",
       "118     17.8  338.63  15.37  \n",
       "392     20.2  396.90  25.68  \n",
       "61      19.7  378.08  14.44  \n",
       "381     20.2  396.90  21.08  \n",
       "53      16.8  396.90   8.43  "
      ]
     },
     "execution_count": 4,
     "metadata": {},
     "output_type": "execute_result"
    }
   ],
   "source": [
    "X = pd.DataFrame(boston['data'], columns = boston['feature_names'])\n",
    "y = pd.DataFrame(boston['target'], columns = ['MEDV'])\n",
    "X_train, X_test, y_train, y_test = train_test_split(X, y, test_size = 0.3, random_state = 1018)\n",
    "X_train.head()"
   ]
  },
  {
   "cell_type": "markdown",
   "metadata": {},
   "source": [
    "#### 4. Instanciación de un modelo de regresión lineal"
   ]
  },
  {
   "cell_type": "code",
   "execution_count": 5,
   "metadata": {},
   "outputs": [],
   "source": [
    "regr = linear_model.LinearRegression()"
   ]
  },
  {
   "cell_type": "markdown",
   "metadata": {},
   "source": [
    "#### 5. Entrenamiento (construcción) y guardado del modelo"
   ]
  },
  {
   "cell_type": "code",
   "execution_count": 6,
   "metadata": {},
   "outputs": [
    {
     "name": "stdout",
     "output_type": "stream",
     "text": [
      "   COEFICIENTES DE LA REGRESIÓN   \n",
      "----------------------------------\n",
      "[[-1.10329111e-01  5.66997361e-02  6.72411687e-02  3.40675302e+00\n",
      "  -1.87922895e+01  2.97989171e+00 -8.07715162e-03 -1.70215951e+00\n",
      "   3.01797822e-01 -1.23099758e-02 -9.39754754e-01  8.50202554e-03\n",
      "  -5.56888218e-01]]\n"
     ]
    }
   ],
   "source": [
    "regr.fit(X_train, y_train)\n",
    "joblib.dump(regr, 'model.pkl')\n",
    "\n",
    "print(\"   COEFICIENTES DE LA REGRESIÓN   \")\n",
    "print(\"----------------------------------\")\n",
    "print(regr.coef_)"
   ]
  },
  {
   "cell_type": "markdown",
   "metadata": {},
   "source": [
    "#### 6. Validación (testeo) del modelo"
   ]
  },
  {
   "cell_type": "code",
   "execution_count": 7,
   "metadata": {},
   "outputs": [
    {
     "name": "stdout",
     "output_type": "stream",
     "text": [
      "Error cuadrático medio: 20.8\n",
      "Varianza explicada por el modelo: 77.14%\n"
     ]
    }
   ],
   "source": [
    "y_pred = regr.predict(X_test)\n",
    "msq = np.round(mean_squared_error(y_test, y_pred), 2)\n",
    "r2  = np.round(100 * r2_score(y_test, y_pred), 2)\n",
    "print(\"Error cuadrático medio: \" + str(msq))\n",
    "print(\"Varianza explicada por el modelo: \" + str(r2) + \"%\")"
   ]
  },
  {
   "cell_type": "markdown",
   "metadata": {},
   "source": [
    "#### 7. Convertimos los datos de test a JSON"
   ]
  },
  {
   "cell_type": "code",
   "execution_count": 8,
   "metadata": {},
   "outputs": [
    {
     "data": {
      "text/plain": [
       "'[{\"CRIM\":0.10574,\"ZN\":0.0,\"INDUS\":27.74,\"CHAS\":0.0,\"NOX\":0.609,\"RM\":5.983,\"AGE\":98.8,\"DIS\":1.8681,\"RAD\":4.0,\"TAX\":711.0,\"PTRATIO\":20.1,\"B\":390.11,\"LSTAT\":18.07},{\"CRIM\":0.37578,\"ZN\":0.0,\"INDUS\":10.59,\"CHAS\":1.0,\"NOX\":0.489,\"RM\":5.404,\"AGE\":88.6,\"DIS\":3.665,\"RAD\":4.0,\"TAX\":277.0,\"PTRATIO\":18.6,\"B\":395.24,\"LSTAT\":23.98},{\"CRIM\":0.06211,\"ZN\":40.0,\"INDUS\":1.25,\"CHAS\":0.0,\"NOX\":0.429,\"RM\":6.49,\"AGE\":44.4,\"DIS\":8.7921,\"RAD\":1.0,\"TAX\":335.0,\"PTRATIO\":19.7,\"B\":396.9,\"LSTAT\":5.98},{\"CRIM\":88.9762,\"ZN\":0.0,\"INDUS\":18.1,\"CHAS\":0.0,\"NOX\":0.671,\"RM\":6.968,\"AGE\":91.9,\"DIS\":1.4165,\"RAD\":24.0,\"TAX\":666.0,\"PTRATIO\":20.2,\"B\":396.9,\"LSTAT\":17.21},{\"CRIM\":0.05023,\"ZN\":35.0,\"INDUS\":6.06,\"CHAS\":0.0,\"NOX\":0.4379,\"RM\":5.706,\"AGE\":28.4,\"DIS\":6.6407,\"RAD\":1.0,\"TAX\":304.0,\"PTRATIO\":16.9,\"B\":394.02,\"LSTAT\":12.43},{\"CRIM\":0.26169,\"ZN\":0.0,\"INDUS\":9.9,\"CHAS\":0.0,\"NOX\":0.544,\"RM\":6.023,\"AGE\":90.4,\"DIS\":2.834,\"RAD\":4.0,\"TAX\":304.0,\"PTRATIO\":18.4,\"B\":396.3,\"LSTAT\":11.72},{\"CRIM\":1.61282,\"ZN\":0.0,\"INDUS\":8.14,\"CHAS\":0.'"
      ]
     },
     "execution_count": 8,
     "metadata": {},
     "output_type": "execute_result"
    }
   ],
   "source": [
    "data = X_test.to_json(orient='records')\n",
    "data[0:1000]"
   ]
  }
 ],
 "metadata": {
  "kernelspec": {
   "display_name": "Python 3",
   "language": "python",
   "name": "python3"
  },
  "language_info": {
   "codemirror_mode": {
    "name": "ipython",
    "version": 3
   },
   "file_extension": ".py",
   "mimetype": "text/x-python",
   "name": "python",
   "nbconvert_exporter": "python",
   "pygments_lexer": "ipython3",
   "version": "3.6.5"
  }
 },
 "nbformat": 4,
 "nbformat_minor": 2
}
