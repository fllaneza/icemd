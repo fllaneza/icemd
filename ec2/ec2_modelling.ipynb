{
 "cells": [
  {
   "cell_type": "markdown",
   "metadata": {},
   "source": [
    "# Modelización mediante una regresión lineal"
   ]
  },
  {
   "cell_type": "code",
   "execution_count": 1,
   "metadata": {},
   "outputs": [],
   "source": [
    "import numpy as np\n",
    "import pandas as pd\n",
    "from sklearn import datasets, linear_model\n",
    "from sklearn.metrics import mean_squared_error, r2_score\n",
    "from sklearn.model_selection import train_test_split\n",
    "from sklearn.externals import joblib"
   ]
  },
  {
   "cell_type": "markdown",
   "metadata": {},
   "source": [
    "#### 1. Carga de datos (precios de casas en Boston)"
   ]
  },
  {
   "cell_type": "code",
   "execution_count": 2,
   "metadata": {},
   "outputs": [
    {
     "name": "stdout",
     "output_type": "stream",
     "text": [
      "Boston House Prices dataset\n",
      "===========================\n",
      "\n",
      "Notes\n",
      "------\n",
      "Data Set Characteristics:  \n",
      "\n",
      "    :Number of Instances: 506 \n",
      "\n",
      "    :Number of Attributes: 13 numeric/categorical predictive\n",
      "    \n",
      "    :Median Value (attribute 14) is usually the target\n",
      "\n",
      "    :Attribute Information (in order):\n",
      "        - CRIM     per capita crime rate by town\n",
      "        - ZN       proportion of residential land zoned for lots over 25,000 sq.ft.\n",
      "        - INDUS    proportion of non-retail business acres per town\n",
      "        - CHAS     Charles River dummy variable (= 1 if tract bounds river; 0 otherwise)\n",
      "        - NOX      nitric oxides concentration (parts per 10 million)\n",
      "        - RM       average number of rooms per dwelling\n",
      "        - AGE      proportion of owner-occupied units built prior to 1940\n",
      "        - DIS      weighted distances to five Boston employment centres\n",
      "        - RAD      index of accessibility to radial highways\n",
      "        - TAX      full-value property-tax rate per $10,000\n",
      "        - PTRATIO  pupil-teacher ratio by town\n",
      "        - B        1000(Bk - 0.63)^2 where Bk is the proportion of blacks by town\n",
      "        - LSTAT    % lower status of the population\n",
      "        - MEDV     Median value of owner-occupied homes in $1000's\n",
      "\n",
      "    :Missing Attribute Values: None\n",
      "\n",
      "    :Creator: Harrison, D. and Rubinfeld, D.L.\n",
      "\n",
      "This is a copy of UCI ML housing dataset.\n",
      "http://archive.ics.uci.edu/ml/datasets/Housing\n",
      "\n",
      "\n",
      "This dataset was taken from the StatLib library which is maintained at Carnegie Mellon University.\n",
      "\n",
      "The Boston house-price data of Harrison, D. and Rubinfeld, D.L. 'Hedonic\n",
      "prices and the demand for clean air', J. Environ. Economics & Management,\n",
      "vol.5, 81-102, 1978.   Used in Belsley, Kuh & Welsch, 'Regression diagnostics\n",
      "...', Wiley, 1980.   N.B. Various transformations are used in the table on\n",
      "pages 244-261 of the latter.\n",
      "\n",
      "The Boston house-price data has been used in many machine learning papers that address regression\n",
      "problems.   \n",
      "     \n",
      "**References**\n",
      "\n",
      "   - Belsley, Kuh & Welsch, 'Regression diagnostics: Identifying Influential Data and Sources of Collinearity', Wiley, 1980. 244-261.\n",
      "   - Quinlan,R. (1993). Combining Instance-Based and Model-Based Learning. In Proceedings on the Tenth International Conference of Machine Learning, 236-243, University of Massachusetts, Amherst. Morgan Kaufmann.\n",
      "   - many more! (see http://archive.ics.uci.edu/ml/datasets/Housing)\n",
      "\n"
     ]
    }
   ],
   "source": [
    "boston = datasets.load_boston()\n",
    "print(boston.DESCR)"
   ]
  },
  {
   "cell_type": "markdown",
   "metadata": {},
   "source": [
    "#### 2. Observación de los datos"
   ]
  },
  {
   "cell_type": "code",
   "execution_count": 4,
   "metadata": {},
   "outputs": [
    {
     "name": "stdout",
     "output_type": "stream",
     "text": [
      "---VARIABLES EXPLICATIVAS---\n",
      "CRIM: 0.02985\n",
      "ZN: 0.0\n",
      "INDUS: 2.18\n",
      "CHAS: 0.0\n",
      "NOX: 0.458\n",
      "RM: 6.43\n",
      "AGE: 58.7\n",
      "DIS: 6.0622\n",
      "RAD: 3.0\n",
      "TAX: 222.0\n",
      "PTRATIO: 18.7\n",
      "B: 394.12\n",
      "LSTAT: 5.21\n",
      "\n",
      "---VARIABLE OBJETIVO---\n",
      "MEDV: 28.7\n"
     ]
    }
   ],
   "source": [
    "ind = 5\n",
    "print(\"---VARIABLES EXPLICATIVAS---\")\n",
    "for vble_name, value in zip(boston['feature_names'], boston['data'][ind]):\n",
    "    print(vble_name + \": \" + str(value))\n",
    "print(\"\\n---VARIABLE OBJETIVO---\")\n",
    "print(\"MEDV: \" + str(boston['target'][ind]))"
   ]
  },
  {
   "cell_type": "markdown",
   "metadata": {},
   "source": [
    "#### 3. Separación en un conjunto de entrenamiento (70%) y otro de test (30%)"
   ]
  },
  {
   "cell_type": "code",
   "execution_count": 5,
   "metadata": {
    "scrolled": true
   },
   "outputs": [
    {
     "data": {
      "text/html": [
       "<div>\n",
       "<style scoped>\n",
       "    .dataframe tbody tr th:only-of-type {\n",
       "        vertical-align: middle;\n",
       "    }\n",
       "\n",
       "    .dataframe tbody tr th {\n",
       "        vertical-align: top;\n",
       "    }\n",
       "\n",
       "    .dataframe thead th {\n",
       "        text-align: right;\n",
       "    }\n",
       "</style>\n",
       "<table border=\"1\" class=\"dataframe\">\n",
       "  <thead>\n",
       "    <tr style=\"text-align: right;\">\n",
       "      <th></th>\n",
       "      <th>CRIM</th>\n",
       "      <th>ZN</th>\n",
       "      <th>INDUS</th>\n",
       "      <th>CHAS</th>\n",
       "      <th>NOX</th>\n",
       "      <th>RM</th>\n",
       "      <th>AGE</th>\n",
       "      <th>DIS</th>\n",
       "      <th>RAD</th>\n",
       "      <th>TAX</th>\n",
       "      <th>PTRATIO</th>\n",
       "      <th>B</th>\n",
       "      <th>LSTAT</th>\n",
       "    </tr>\n",
       "  </thead>\n",
       "  <tbody>\n",
       "    <tr>\n",
       "      <th>491</th>\n",
       "      <td>0.10574</td>\n",
       "      <td>0.0</td>\n",
       "      <td>27.74</td>\n",
       "      <td>0.0</td>\n",
       "      <td>0.6090</td>\n",
       "      <td>5.983</td>\n",
       "      <td>98.8</td>\n",
       "      <td>1.8681</td>\n",
       "      <td>4.0</td>\n",
       "      <td>711.0</td>\n",
       "      <td>20.1</td>\n",
       "      <td>390.11</td>\n",
       "      <td>18.07</td>\n",
       "    </tr>\n",
       "    <tr>\n",
       "      <th>211</th>\n",
       "      <td>0.37578</td>\n",
       "      <td>0.0</td>\n",
       "      <td>10.59</td>\n",
       "      <td>1.0</td>\n",
       "      <td>0.4890</td>\n",
       "      <td>5.404</td>\n",
       "      <td>88.6</td>\n",
       "      <td>3.6650</td>\n",
       "      <td>4.0</td>\n",
       "      <td>277.0</td>\n",
       "      <td>18.6</td>\n",
       "      <td>395.24</td>\n",
       "      <td>23.98</td>\n",
       "    </tr>\n",
       "    <tr>\n",
       "      <th>350</th>\n",
       "      <td>0.06211</td>\n",
       "      <td>40.0</td>\n",
       "      <td>1.25</td>\n",
       "      <td>0.0</td>\n",
       "      <td>0.4290</td>\n",
       "      <td>6.490</td>\n",
       "      <td>44.4</td>\n",
       "      <td>8.7921</td>\n",
       "      <td>1.0</td>\n",
       "      <td>335.0</td>\n",
       "      <td>19.7</td>\n",
       "      <td>396.90</td>\n",
       "      <td>5.98</td>\n",
       "    </tr>\n",
       "    <tr>\n",
       "      <th>380</th>\n",
       "      <td>88.97620</td>\n",
       "      <td>0.0</td>\n",
       "      <td>18.10</td>\n",
       "      <td>0.0</td>\n",
       "      <td>0.6710</td>\n",
       "      <td>6.968</td>\n",
       "      <td>91.9</td>\n",
       "      <td>1.4165</td>\n",
       "      <td>24.0</td>\n",
       "      <td>666.0</td>\n",
       "      <td>20.2</td>\n",
       "      <td>396.90</td>\n",
       "      <td>17.21</td>\n",
       "    </tr>\n",
       "    <tr>\n",
       "      <th>331</th>\n",
       "      <td>0.05023</td>\n",
       "      <td>35.0</td>\n",
       "      <td>6.06</td>\n",
       "      <td>0.0</td>\n",
       "      <td>0.4379</td>\n",
       "      <td>5.706</td>\n",
       "      <td>28.4</td>\n",
       "      <td>6.6407</td>\n",
       "      <td>1.0</td>\n",
       "      <td>304.0</td>\n",
       "      <td>16.9</td>\n",
       "      <td>394.02</td>\n",
       "      <td>12.43</td>\n",
       "    </tr>\n",
       "  </tbody>\n",
       "</table>\n",
       "</div>"
      ],
      "text/plain": [
       "         CRIM    ZN  INDUS  CHAS     NOX     RM   AGE     DIS   RAD    TAX  \\\n",
       "491   0.10574   0.0  27.74   0.0  0.6090  5.983  98.8  1.8681   4.0  711.0   \n",
       "211   0.37578   0.0  10.59   1.0  0.4890  5.404  88.6  3.6650   4.0  277.0   \n",
       "350   0.06211  40.0   1.25   0.0  0.4290  6.490  44.4  8.7921   1.0  335.0   \n",
       "380  88.97620   0.0  18.10   0.0  0.6710  6.968  91.9  1.4165  24.0  666.0   \n",
       "331   0.05023  35.0   6.06   0.0  0.4379  5.706  28.4  6.6407   1.0  304.0   \n",
       "\n",
       "     PTRATIO       B  LSTAT  \n",
       "491     20.1  390.11  18.07  \n",
       "211     18.6  395.24  23.98  \n",
       "350     19.7  396.90   5.98  \n",
       "380     20.2  396.90  17.21  \n",
       "331     16.9  394.02  12.43  "
      ]
     },
     "execution_count": 5,
     "metadata": {},
     "output_type": "execute_result"
    }
   ],
   "source": [
    "X = pd.DataFrame(boston['data'], columns = boston['feature_names'])\n",
    "y = pd.DataFrame(boston['target'], columns = ['MEDV'])\n",
    "X_train, X_test, y_train, y_test = train_test_split(X, y, test_size = 0.3, random_state = 1018)\n",
    "X_test.head()"
   ]
  },
  {
   "cell_type": "markdown",
   "metadata": {},
   "source": [
    "#### 4. Instanciación de un modelo de regresión lineal"
   ]
  },
  {
   "cell_type": "code",
   "execution_count": 7,
   "metadata": {},
   "outputs": [],
   "source": [
    "regr = linear_model.LinearRegression()"
   ]
  },
  {
   "cell_type": "markdown",
   "metadata": {},
   "source": [
    "#### 5. Entrenamiento (construcción) y guardado del modelo"
   ]
  },
  {
   "cell_type": "code",
   "execution_count": 8,
   "metadata": {},
   "outputs": [
    {
     "name": "stdout",
     "output_type": "stream",
     "text": [
      "   COEFICIENTES DE LA REGRESIÓN   \n",
      "----------------------------------\n",
      "[[-1.10329111e-01  5.66997361e-02  6.72411687e-02  3.40675302e+00\n",
      "  -1.87922895e+01  2.97989171e+00 -8.07715162e-03 -1.70215951e+00\n",
      "   3.01797822e-01 -1.23099758e-02 -9.39754754e-01  8.50202554e-03\n",
      "  -5.56888218e-01]]\n"
     ]
    }
   ],
   "source": [
    "regr.fit(X_train, y_train)\n",
    "joblib.dump(regr, 'model.pkl')\n",
    "\n",
    "print(\"   COEFICIENTES DE LA REGRESIÓN   \")\n",
    "print(\"----------------------------------\")\n",
    "print(regr.coef_)"
   ]
  },
  {
   "cell_type": "markdown",
   "metadata": {},
   "source": [
    "#### 6. Validación (testeo) del modelo"
   ]
  },
  {
   "cell_type": "code",
   "execution_count": 9,
   "metadata": {},
   "outputs": [
    {
     "name": "stdout",
     "output_type": "stream",
     "text": [
      "Error cuadrático medio: 20.8\n",
      "Varianza explicada por el modelo: 77.14%\n"
     ]
    }
   ],
   "source": [
    "y_pred = regr.predict(X_test)\n",
    "msq = np.round(mean_squared_error(y_test, y_pred), 2)\n",
    "r2  = np.round(100 * r2_score(y_test, y_pred), 2)\n",
    "print(\"Error cuadrático medio: \" + str(msq))\n",
    "print(\"Varianza explicada por el modelo: \" + str(r2) + \"%\")"
   ]
  },
  {
   "cell_type": "markdown",
   "metadata": {},
   "source": [
    "#### 7. Convertimos los datos de test a JSON"
   ]
  },
  {
   "cell_type": "code",
   "execution_count": 8,
   "metadata": {},
   "outputs": [
    {
     "data": {
      "text/plain": [
       "'[{\"CRIM\":0.10574,\"ZN\":0.0,\"INDUS\":27.74,\"CHAS\":0.0,\"NOX\":0.609,\"RM\":5.983,\"AGE\":98.8,\"DIS\":1.8681,\"RAD\":4.0,\"TAX\":711.0,\"PTRATIO\":20.1,\"B\":390.11,\"LSTAT\":18.07},{\"CRIM\":0.37578,\"ZN\":0.0,\"INDUS\":10.59,\"CHAS\":1.0,\"NOX\":0.489,\"RM\":5.404,\"AGE\":88.6,\"DIS\":3.665,\"RAD\":4.0,\"TAX\":277.0,\"PTRATIO\":18.6,\"B\":395.24,\"LSTAT\":23.98},{\"CRIM\":0.06211,\"ZN\":40.0,\"INDUS\":1.25,\"CHAS\":0.0,\"NOX\":0.429,\"RM\":6.49,\"AGE\":44.4,\"DIS\":8.7921,\"RAD\":1.0,\"TAX\":335.0,\"PTRATIO\":19.7,\"B\":396.9,\"LSTAT\":5.98},{\"CRIM\":88.9762,\"ZN\":0.0,\"INDUS\":18.1,\"CHAS\":0.0,\"NOX\":0.671,\"RM\":6.968,\"AGE\":91.9,\"DIS\":1.4165,\"RAD\":24.0,\"TAX\":666.0,\"PTRATIO\":20.2,\"B\":396.9,\"LSTAT\":17.21},{\"CRIM\":0.05023,\"ZN\":35.0,\"INDUS\":6.06,\"CHAS\":0.0,\"NOX\":0.4379,\"RM\":5.706,\"AGE\":28.4,\"DIS\":6.6407,\"RAD\":1.0,\"TAX\":304.0,\"PTRATIO\":16.9,\"B\":394.02,\"LSTAT\":12.43},{\"CRIM\":0.26169,\"ZN\":0.0,\"INDUS\":9.9,\"CHAS\":0.0,\"NOX\":0.544,\"RM\":6.023,\"AGE\":90.4,\"DIS\":2.834,\"RAD\":4.0,\"TAX\":304.0,\"PTRATIO\":18.4,\"B\":396.3,\"LSTAT\":11.72},{\"CRIM\":1.61282,\"ZN\":0.0,\"INDUS\":8.14,\"CHAS\":0.'"
      ]
     },
     "execution_count": 8,
     "metadata": {},
     "output_type": "execute_result"
    }
   ],
   "source": [
    "data = X_test.to_json(orient='records')\n",
    "data[0:1000]"
   ]
  }
 ],
 "metadata": {
  "kernelspec": {
   "display_name": "Python 3",
   "language": "python",
   "name": "python3"
  },
  "language_info": {
   "codemirror_mode": {
    "name": "ipython",
    "version": 3
   },
   "file_extension": ".py",
   "mimetype": "text/x-python",
   "name": "python",
   "nbconvert_exporter": "python",
   "pygments_lexer": "ipython3",
   "version": "3.6.5"
  }
 },
 "nbformat": 4,
 "nbformat_minor": 2
}
