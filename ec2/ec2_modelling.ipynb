{
 "cells": [
  {
   "cell_type": "markdown",
   "metadata": {},
   "source": [
    "# Modelización (regresión lineal) y disponibilización como API en EC2"
   ]
  },
  {
   "cell_type": "code",
   "execution_count": 1,
   "metadata": {},
   "outputs": [],
   "source": [
    "import numpy as np\n",
    "import pandas as pd\n",
    "from sklearn import datasets, linear_model\n",
    "from sklearn.metrics import mean_squared_error, r2_score\n",
    "from sklearn.model_selection import train_test_split\n",
    "from sklearn.externals import joblib\n",
    "from flask import Flask, jsonify"
   ]
  },
  {
   "cell_type": "markdown",
   "metadata": {},
   "source": [
    "#### 1. Carga de datos (precios de casas en Boston)"
   ]
  },
  {
   "cell_type": "code",
   "execution_count": 2,
   "metadata": {},
   "outputs": [
    {
     "name": "stdout",
     "output_type": "stream",
     "text": [
      ".. _boston_dataset:\n",
      "\n",
      "Boston house prices dataset\n",
      "---------------------------\n",
      "\n",
      "**Data Set Characteristics:**  \n",
      "\n",
      "    :Number of Instances: 506 \n",
      "\n",
      "    :Number of Attributes: 13 numeric/categorical predictive. Median Value (attribute 14) is usually the target.\n",
      "\n",
      "    :Attribute Information (in order):\n",
      "        - CRIM     per capita crime rate by town\n",
      "        - ZN       proportion of residential land zoned for lots over 25,000 sq.ft.\n",
      "        - INDUS    proportion of non-retail business acres per town\n",
      "        - CHAS     Charles River dummy variable (= 1 if tract bounds river; 0 otherwise)\n",
      "        - NOX      nitric oxides concentration (parts per 10 million)\n",
      "        - RM       average number of rooms per dwelling\n",
      "        - AGE      proportion of owner-occupied units built prior to 1940\n",
      "        - DIS      weighted distances to five Boston employment centres\n",
      "        - RAD      index of accessibility to radial highways\n",
      "        - TAX      full-value property-tax rate per $10,000\n",
      "        - PTRATIO  pupil-teacher ratio by town\n",
      "        - B        1000(Bk - 0.63)^2 where Bk is the proportion of blacks by town\n",
      "        - LSTAT    % lower status of the population\n",
      "        - MEDV     Median value of owner-occupied homes in $1000's\n",
      "\n",
      "    :Missing Attribute Values: None\n",
      "\n",
      "    :Creator: Harrison, D. and Rubinfeld, D.L.\n",
      "\n",
      "This is a copy of UCI ML housing dataset.\n",
      "https://archive.ics.uci.edu/ml/machine-learning-databases/housing/\n",
      "\n",
      "\n",
      "This dataset was taken from the StatLib library which is maintained at Carnegie Mellon University.\n",
      "\n",
      "The Boston house-price data of Harrison, D. and Rubinfeld, D.L. 'Hedonic\n",
      "prices and the demand for clean air', J. Environ. Economics & Management,\n",
      "vol.5, 81-102, 1978.   Used in Belsley, Kuh & Welsch, 'Regression diagnostics\n",
      "...', Wiley, 1980.   N.B. Various transformations are used in the table on\n",
      "pages 244-261 of the latter.\n",
      "\n",
      "The Boston house-price data has been used in many machine learning papers that address regression\n",
      "problems.   \n",
      "     \n",
      ".. topic:: References\n",
      "\n",
      "   - Belsley, Kuh & Welsch, 'Regression diagnostics: Identifying Influential Data and Sources of Collinearity', Wiley, 1980. 244-261.\n",
      "   - Quinlan,R. (1993). Combining Instance-Based and Model-Based Learning. In Proceedings on the Tenth International Conference of Machine Learning, 236-243, University of Massachusetts, Amherst. Morgan Kaufmann.\n",
      "\n"
     ]
    }
   ],
   "source": [
    "boston = datasets.load_boston()\n",
    "print(boston.DESCR)"
   ]
  },
  {
   "cell_type": "markdown",
   "metadata": {},
   "source": [
    "#### 2. Observación de los datos"
   ]
  },
  {
   "cell_type": "code",
   "execution_count": 3,
   "metadata": {},
   "outputs": [
    {
     "name": "stdout",
     "output_type": "stream",
     "text": [
      "---VARIABLES EXPLICATIVAS---\n",
      "CRIM: 0.00632\n",
      "ZN: 18.0\n",
      "INDUS: 2.31\n",
      "CHAS: 0.0\n",
      "NOX: 0.538\n",
      "RM: 6.575\n",
      "AGE: 65.2\n",
      "DIS: 4.09\n",
      "RAD: 1.0\n",
      "TAX: 296.0\n",
      "PTRATIO: 15.3\n",
      "B: 396.9\n",
      "LSTAT: 4.98\n",
      "\n",
      "---VARIABLE OBJETIVO---\n",
      "MEDV: 24.0\n"
     ]
    }
   ],
   "source": [
    "ind = 0\n",
    "print(\"---VARIABLES EXPLICATIVAS---\")\n",
    "for vble_name, value in zip(boston['feature_names'], boston['data'][ind]):\n",
    "    print(vble_name + \": \" + str(value))\n",
    "print(\"\\n---VARIABLE OBJETIVO---\")\n",
    "print(\"MEDV: \" + str(boston['target'][ind]))"
   ]
  },
  {
   "cell_type": "markdown",
   "metadata": {},
   "source": [
    "#### 3. Separación en un conjunto de entrenamiento (70%) y otro de test (30%)"
   ]
  },
  {
   "cell_type": "code",
   "execution_count": 4,
   "metadata": {},
   "outputs": [],
   "source": [
    "X = boston['data']\n",
    "y = boston['target']\n",
    "X_train, X_test, y_train, y_test = train_test_split(X, y, test_size = 0.3, random_state = 1018)"
   ]
  },
  {
   "cell_type": "markdown",
   "metadata": {},
   "source": [
    "#### 4. Instanciación de un modelo de regresión lineal"
   ]
  },
  {
   "cell_type": "code",
   "execution_count": 5,
   "metadata": {},
   "outputs": [],
   "source": [
    "regr = linear_model.LinearRegression()"
   ]
  },
  {
   "cell_type": "markdown",
   "metadata": {},
   "source": [
    "#### 5. Entrenamiento (construcción) y guardado del modelo"
   ]
  },
  {
   "cell_type": "code",
   "execution_count": 10,
   "metadata": {},
   "outputs": [
    {
     "name": "stdout",
     "output_type": "stream",
     "text": [
      "   COEFICIENTES DE LA REGRESIÓN   \n",
      "----------------------------------\n",
      "CRIM: -0.11193902050260902\n",
      "ZN: 0.05674996301585538\n",
      "INDUS: 0.06669819526661612\n",
      "CHAS: 3.405086305207178\n",
      "NOX: -18.74445023841001\n",
      "RM: 2.986471486055574\n",
      "AGE: -0.008142450521635392\n",
      "DIS: -1.7022330690842205\n",
      "RAD: 0.3024273631181672\n",
      "TAX: -0.012318143478286407\n",
      "PTRATIO: -0.9390676040160599\n",
      "B: 0.00836367800618106\n",
      "LSTAT: -0.5558901137172408\n"
     ]
    }
   ],
   "source": [
    "regr.fit(X_train, y_train)\n",
    "joblib.dump(regr, 'model.pkl')\n",
    "\n",
    "print(\"   COEFICIENTES DE LA REGRESIÓN   \")\n",
    "print(\"----------------------------------\")\n",
    "for vble_name, value in zip(boston['feature_names'], regr.coef_):\n",
    "    print(vble_name + \": \" + str(value))"
   ]
  },
  {
   "cell_type": "markdown",
   "metadata": {},
   "source": [
    "#### 6. Validación (testeo) del modelo"
   ]
  },
  {
   "cell_type": "code",
   "execution_count": 7,
   "metadata": {},
   "outputs": [
    {
     "name": "stdout",
     "output_type": "stream",
     "text": [
      "Error cuadrático medio: 20.8\n",
      "Varianza explicada por el modelo: 77.15%\n"
     ]
    }
   ],
   "source": [
    "y_pred = regr.predict(X_test)\n",
    "msq = np.round(mean_squared_error(y_test, y_pred), 2)\n",
    "r2  = np.round(100 * r2_score(y_test, y_pred), 2)\n",
    "print(\"Error cuadrático medio: \" + str(msq))\n",
    "print(\"Varianza explicada por el modelo: \" + str(r2) + \"%\")"
   ]
  },
  {
   "cell_type": "markdown",
   "metadata": {},
   "source": [
    "#### 7. Disponibilización del modelo como API"
   ]
  },
  {
   "cell_type": "code",
   "execution_count": null,
   "metadata": {},
   "outputs": [
    {
     "name": "stdout",
     "output_type": "stream",
     "text": [
      " * Serving Flask app \"__main__\" (lazy loading)\n",
      " * Environment: production\n",
      "   WARNING: Do not use the development server in a production environment.\n",
      "   Use a production WSGI server instead.\n",
      " * Debug mode: off\n"
     ]
    },
    {
     "name": "stderr",
     "output_type": "stream",
     "text": [
      " * Running on http://127.0.0.1:8080/ (Press CTRL+C to quit)\n"
     ]
    }
   ],
   "source": [
    "app = Flask(__name__)\n",
    "\n",
    "@app.route('/predict', methods=['POST'])\n",
    "def predict():\n",
    "    json_ = request.json\n",
    "    query = pd.DataFrame(json_).values\n",
    "    prediction = regr.predict(query)\n",
    "    return jsonify({'prediction': list(prediction)})\n",
    "    \n",
    "if __name__ == '__main__':\n",
    "    regr = joblib.load('model.pkl')\n",
    "    app.run(port=8080)"
   ]
  }
 ],
 "metadata": {
  "kernelspec": {
   "display_name": "Python 3",
   "language": "python",
   "name": "python3"
  },
  "language_info": {
   "codemirror_mode": {
    "name": "ipython",
    "version": 3
   },
   "file_extension": ".py",
   "mimetype": "text/x-python",
   "name": "python",
   "nbconvert_exporter": "python",
   "pygments_lexer": "ipython3",
   "version": "3.7.0"
  }
 },
 "nbformat": 4,
 "nbformat_minor": 2
}
